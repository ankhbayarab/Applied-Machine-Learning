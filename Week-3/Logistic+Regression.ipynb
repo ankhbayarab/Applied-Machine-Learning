{
 "cells": [
  {
   "cell_type": "markdown",
   "metadata": {},
   "source": [
    "Programming Exercise 2: Logistic Regression\n",
    "============\n",
    "\n",
    "In this exercise, you will implement logistic regression and apply it to\n",
    "two different datasets. Before starting on the programming exercise, we\n",
    "strongly recommend watching the video lectures and completing the review\n",
    "questions for the associated topics. Throughout this exercise, you will be asked to complete the following functions: \n",
    "\n",
    "- sigmoid: Sigmoid Function \n",
    "- costFunction: Logistic Regression Cost Function\n",
    "- predict: Logistic Regression Prediction Function\n",
    "- costFunctionReg: Regularized Logistic Regression Cost\n",
    "\n",
    "**Instructions**:\n",
    "\n",
    "For each function, we have provided starter code for you. You will find a description of the problems followed by a cell which contains some code. You will have to write your own code in these cells to complete the four functions mentioned above. Once you run the cells, your output would be displayed. If it matches the expected output, then you should continue with the next part of the exercise, else, you would have to try again. \n",
    "\n",
    "Please read the [Notebook FAQ](https://www.coursera.org/learn/machine-learning/supplement/S9fb6/jupyter-notebook-faq) to get familiar with the Jupyter environment and the commands. We also highly recommend going to your workspace to explore the files you will be working with before starting the exercise.\n",
    "\n",
    "To go to the workspace: press on File ==> Open.\n",
    "\n",
    "### NOTE:\n",
    "You will find cells which contain the comment % GRADED FUNCTION: functionName. Do not edit that comment. Those cells will be used to grade your assignment. Each block of code with that comment should only have the function. \n",
    "\n",
    "#### After submitting your assignment, you can [check your grades here](https://www.coursera.org/learn/machine-learning/programming/67IUt/logistic-regression). \n"
   ]
  },
  {
   "cell_type": "markdown",
   "metadata": {},
   "source": [
    "Logistic Regression\n",
    "===================\n",
    "\n",
    "In this part of the exercise, you will build a logistic regression model\n",
    "to predict whether a student gets admitted into a university.\n",
    "\n",
    "Suppose that you are the administrator of a university department and\n",
    "you want to determine each applicant’s chance of admission based on\n",
    "their results on two exams. You have historical data from previous\n",
    "applicants that you can use as a training set for logistic regression.\n",
    "For each training example, you have the applicant’s scores on two exams\n",
    "and the admission's decision.\n",
    "\n",
    "Your task is to build a classification model that estimates an\n",
    "applicant’s probability of admission based on the scores from those two\n",
    "exams. "
   ]
  },
  {
   "cell_type": "markdown",
   "metadata": {},
   "source": [
    "Visualizing the data\n",
    "--------------------\n",
    "\n",
    "Before starting to implement any learning algorithm, it is always good\n",
    "to visualize the data if possible.\n",
    "\n",
    "The function (plotData) below displays the following figure: \n",
    "\n",
    "<img src=\"../readonly/Assignment2/figure 1.png\" width=\"450\" height=\"450\">\n",
    "\n",
    "where the axes are the two exam scores, and the positive and negative examples are shown with different markers. To help you get more familiar with plotting, we have written the plotData function for you. Make sure you learn what each of its commands is doing by consulting the Octave documentation.\n",
    "\n",
    "\n",
    "plotData(x,y) plots the data points with + for the positive examples and o for the negative examples. X is assumed to be an M x 2 matrix.\n",
    "\n",
    "To plot the data points, we have used the option 'k+' for the positive examples and 'ko' for the negative examples."
   ]
  },
  {
   "cell_type": "code",
   "execution_count": 70,
   "metadata": {
    "collapsed": false
   },
   "outputs": [
    {
     "name": "stdout",
     "output_type": "stream",
     "text": [
      "Variables in the current scope:\n",
      "\n",
      "   Attr Name               Size                     Bytes  Class\n",
      "   ==== ====               ====                     =====  ===== \n",
      "        Accuracy           1x1                          8  double\n",
      "        J                  1x1                          8  double\n",
      "        X                100x2                       1600  double\n",
      "        ans                1x1                          8  double\n",
      "        cost               1x1                          8  double\n",
      "        data             100x3                       2400  double\n",
      "        exit_flag          1x1                          8  double\n",
      "        grad              29x1                        232  double\n",
      "        initial_theta     29x1                        232  double\n",
      "        lambda             1x1                          8  double\n",
      "        m                  1x1                          8  double\n",
      "        n                  1x1                          8  double\n",
      "        options            1x1                         10  struct\n",
      "        p                118x1                        118  logical\n",
      "        prob               1x1                          8  double\n",
      "        theta             29x1                        232  double\n",
      "        y                100x1                        800  double\n",
      "\n",
      "Total is 815 elements using 5696 bytes\n",
      "\n"
     ]
    }
   ],
   "source": [
    "% Load the Data \n",
    "warning('off'); addpath('../readonly/Assignment2');\n",
    "data = load('ex2data1.txt');\n",
    "X = data(:, [1, 2]);\n",
    "y = data(:, 3);\n",
    "whos"
   ]
  },
  {
   "cell_type": "code",
   "execution_count": 71,
   "metadata": {
    "collapsed": false
   },
   "outputs": [],
   "source": [
    "function plotData(X, y)\n",
    "% Create New Figure\n",
    "figure; hold on;\n",
    "pos = find(y==1);           % Find Indices of Positive Examples\n",
    "neg = find(y == 0);         % Find Indices of Negative Examples\n",
    "\n",
    "%Plot Examples\n",
    "plot(X(pos, 1), X(pos, 2), 'k+','LineWidth', 2, 'MarkerSize', 7); \n",
    "plot(X(neg, 1), X(neg, 2), 'ko', 'MarkerFaceColor', 'y','MarkerSize', 7);\n",
    "hold off;\n",
    "end"
   ]
  },
  {
   "cell_type": "code",
   "execution_count": 72,
   "metadata": {
    "collapsed": false
   },
   "outputs": [
    {
     "data": {
      "image/png": "[encoded data removed]",
      "text/plain": [
       "<IPython.core.display.Image object>"
      ]
     },
     "metadata": {},
     "output_type": "display_data"
    }
   ],
   "source": [
    "plotData(X,y)              \n",
    "hold on;                        % We purposely didn't put the xlabel, ylabel commands in the function\n",
    "xlabel(\"Exam Score 1\")          % So that you could use your function again in the second part of the exercise below\n",
    "ylabel(\"Exam Score 2\")"
   ]
  },
  {
   "cell_type": "markdown",
   "metadata": {},
   "source": [
    "Implementing the Sigmoid Function\n",
    "--------------\n",
    "\n",
    "Before you start with the actual cost function, recall that the logistic\n",
    "regression hypothesis is defined as:\n",
    "$$h_{\\theta}(x) = g(\\theta^{T}x),$$\n",
    "where function $g$ is the sigmoid function. The sigmoid function is\n",
    "defined as: $$g(z) = \\frac{1}{1+e^{-z}}.$$\n",
    "\n",
    "Your first step is to implement this function in the cell below so it\n",
    "can be called by the rest of your program. When you are finished, try\n",
    "testing a few values by calling sigmoid(x) for some value of x in the cell below it.\n",
    "For large positive values of x, the sigmoid should\n",
    "be close to 1, while for large negative values, the sigmoid should be\n",
    "close to 0. Evaluating sigmoid(0) should give you exactly 0.5.\n",
    "Your code should also work with vectors and matrices. For a matrix, your function should perform the sigmoid function on every element.\n",
    "\n",
    "J = sigmoid(z) computes the sigmoid of every value of z."
   ]
  },
  {
   "cell_type": "code",
   "execution_count": 73,
   "metadata": {
    "collapsed": false
   },
   "outputs": [],
   "source": [
    "% GRADED FUNCTION: sigmoid\n",
    "function g = sigmoid(z)\n",
    "\n",
    "g = zeros(size(z));     % return this correctly\n",
    "\n",
    "% ====================== YOUR CODE HERE ======================\n",
    "g = rdivide(1, 1+exp(-z));\n",
    "\n",
    "\n",
    "% =============================================================\n",
    "\n",
    "end"
   ]
  },
  {
   "cell_type": "code",
   "execution_count": 74,
   "metadata": {
    "collapsed": false
   },
   "outputs": [
    {
     "name": "stdout",
     "output_type": "stream",
     "text": [
      "ans =  0.50000\n",
      "ans =  1\n"
     ]
    }
   ],
   "source": [
    "sigmoid(0)\n",
    "sigmoid(100)"
   ]
  },
  {
   "cell_type": "markdown",
   "metadata": {},
   "source": [
    "### Cost function and gradient\n",
    "\n",
    "Now you will implement the cost function and gradient for logistic\n",
    "regression. Complete the code in the function below to return the\n",
    "cost and gradient.\n",
    "\n",
    "Recall that the cost function in logistic regression is\n",
    "\n",
    "$$J(\\theta)=\\frac{{1}}{m}\\sum_{i=1}^{m}\\left[\n",
    " -y^{(i)}\\log(h_{\\theta}(x^{(i)}))-\n",
    " (1-y^{(i)})\\log(1-h_{\\theta}(x^{(i)}))\\right],$$\n",
    "and the gradient of the cost is a vector of the same length as $\\theta$\n",
    "where the $j^\\mathrm{th}$ element (for $j=0,1,\\dots,n$) is defined as\n",
    "follows:\n",
    "\n",
    "$$\\frac{\\partial J(\\theta)}{\\partial\\theta_j}  =  \\frac{1}{m} \\sum_{i=1}^m (h_{\\theta}(x^{(i)}) - y^{(i)}) x_j^{(i)}$$\n",
    "\n",
    "Note that while this gradient looks identical to the linear regression\n",
    "gradient, the formula is actually different because linear and logistic\n",
    "regression have different definitions of $h_{\\theta}(x)$. In this case, our $h_{\\theta}(x)$ will be our sigmoid function.\n",
    "\n",
    "$$h_{\\theta}(x) = g(\\theta^{T}x)$$ where $$g(z) = \\frac{1}{1+e^{-z}}$$\n",
    "\n",
    "Once you are done, run the cell using\n",
    "the initial parameters of $\\theta$. "
   ]
  },
  {
   "cell_type": "markdown",
   "metadata": {},
   "source": [
    "** Implementation Note**:\n",
    "\n",
    "[J, grad] = costFunction(theta, X, y) computes the cost of using theta as the parameter for logistic regression and the gradient of the cost w.r.t. to the parameters.\n",
    "\n",
    "You should set J to the cost defined in the formula above. You should compute the partial derivatives and set grad to the partial derivatives of the cost w.r.t. each parameter in theta. In other words, set grad to the second formula we defined for you above. It should have the same dimension as theta. **Hint:** Compute h first using the sigmoid function you implemented, then use it to compute the cost and the gradient. This function should be three lines of code. Don't forget to use element wise multiplication (.*) where necessary.  "
   ]
  },
  {
   "cell_type": "code",
   "execution_count": 75,
   "metadata": {
    "collapsed": false
   },
   "outputs": [],
   "source": [
    "% GRADED FUNCTION: costFunction\n",
    "function [J, grad] = costFunction(theta, X, y)\n",
    "\n",
    "m = length(y);                   % number of training examples\n",
    "\n",
    "\n",
    "J = 0;                           % set it correctly\n",
    "grad = zeros(size(theta));       % set it correctly\n",
    "\n",
    "% ====================== YOUR CODE HERE ======================\n",
    "h = sigmoid(X * theta);\n",
    "J = -1/m * ((y' * log(h)) + ((1-y)' * log(1-h)));\n",
    "grad = 1/m * (X' * (h-y));\n",
    "% ============================================================\n",
    "\n",
    "end"
   ]
  },
  {
   "cell_type": "code",
   "execution_count": 76,
   "metadata": {
    "collapsed": false,
    "scrolled": true
   },
   "outputs": [
    {
     "name": "stdout",
     "output_type": "stream",
     "text": [
      "cost =  0.69315\n",
      "grad =\n",
      "\n",
      "   -0.10000\n",
      "  -12.00922\n",
      "  -11.26284\n",
      "\n",
      "cost =  0.69315\n"
     ]
    }
   ],
   "source": [
    "[m, n] = size(X);                      % Setup the data matrix appropriately\n",
    "X = [ones(m, 1) X];                    % Add intercept term \n",
    "initial_theta = zeros(n + 1, 1);       % Initialize fitting parameters\n",
    "[cost, grad] = costFunction(initial_theta,X,y)\n",
    "cost"
   ]
  },
  {
   "cell_type": "markdown",
   "metadata": {},
   "source": [
    "**Expected Output **\n",
    "\n",
    "You should see that the cost is\n",
    "about ***0.693***.\n",
    "\n",
    "You should see that the grad is equal to:\n",
    "$ \\begin{pmatrix}\n",
    "  -0.10000 \\\\\n",
    "   -12.00922 \\\\\n",
    "  -11.26284\n",
    " \\end{pmatrix}$"
   ]
  },
  {
   "cell_type": "markdown",
   "metadata": {},
   "source": [
    "### Learning parameters using fminunc\n",
    "\n",
    "In the previous assignment, you found the optimal parameters of a linear\n",
    "regression model by implementing gradient descent. You wrote a cost\n",
    "function and calculated its gradient, then took a gradient descent step\n",
    "accordingly. This time, instead of taking gradient descent steps, you\n",
    "will use an Octave/MATLAB built-in function called fminunc.\n",
    "\n",
    "Octave/MATLAB’s fminunc is an optimization solver that finds the\n",
    "minimum of an unconstrained function. For logistic regression, you\n",
    "want to optimize the cost function $J(\\theta)$ with respect to the parameters $\\theta$.\n",
    "\n",
    "Concretely, you are going to use fminunc to find the best\n",
    "parameters $\\theta$ for the logistic regression cost function, given a\n",
    "fixed dataset (of $X$ and $y$ values). You will pass to fminunc\n",
    "the following inputs:\n",
    "\n",
    "-   The initial values of the parameters we are trying to optimize.\n",
    "\n",
    "-   A function that, when given the training set and a particular $\\theta$, computes the logistic regression cost and gradient with respect to $\\theta$ for the dataset ($X$, $y$)\n",
    "\n",
    "We already have code written to call fminunc\n",
    "with the correct arguments.\n"
   ]
  },
  {
   "cell_type": "code",
   "execution_count": 77,
   "metadata": {
    "collapsed": false
   },
   "outputs": [
    {
     "name": "stdout",
     "output_type": "stream",
     "text": [
      "theta =\n",
      "\n",
      "  -25.16127\n",
      "    0.20623\n",
      "    0.20147\n",
      "\n",
      "cost =  0.20350\n"
     ]
    }
   ],
   "source": [
    "% Run Optimset                     \n",
    "options = optimset('GradObj', 'on', 'MaxIter', 400);    %  Set options for fminunc\n",
    "\n",
    "%  Run fminunc to obtain the optimal theta\n",
    "%  This function will return theta and the cost \n",
    "[theta, cost] = fminunc(@(t)(costFunction(t, X, y)), initial_theta, options)"
   ]
  },
  {
   "cell_type": "markdown",
   "metadata": {},
   "source": [
    "**Expected Output**\n",
    "\n",
    "You should see that the cost is about 0.203."
   ]
  },
  {
   "cell_type": "markdown",
   "metadata": {},
   "source": [
    "\n",
    "In the code above, we first defined the options to be used with\n",
    "fminunc. Specifically, we set the GradObj option to\n",
    "'on', which tells fminunc that our function returns both the\n",
    "cost and the gradient. This allows fminunc to use the gradient\n",
    "when minimizing the function. Furthermore, we set the 'MaxIter'\n",
    "option to 400, so that 'fminunc' will run for at most 400 steps\n",
    "before it terminates.\n",
    "\n",
    "To specify the actual function we are minimizing, we use a “short-hand”\n",
    "for specifying functions with the @(t)(costFunction(t, X, y)). This creates a function, with argument t, which calls your costFunction. This allows us to wrap the costFunction for use\n",
    "with fminunc.\n",
    "\n",
    "If you have completed the costFunction correctly, fminunc\n",
    "will converge on the right optimization parameters and return the final\n",
    "values of the cost and $\\theta$. Notice that by using fminunc,\n",
    "you did not have to write any loops yourself, or set a learning rate\n",
    "like you did for gradient descent. This is all done by fminunc:\n",
    "you only needed to provide a function calculating the cost and the gradient."
   ]
  },
  {
   "cell_type": "markdown",
   "metadata": {},
   "source": [
    "### Plotting the Decision Boundary\n",
    "\n",
    "Now, that you have computed your theta, we will use it to plot the decision boundary. You will not have to write any code, however, we would like you to take a look at how we plotted the boundary line. If you implemented the previous parts correctly, you should see the following plot: \n",
    "<img src=\"../readonly/Assignment2/figure 2.png\"  width=\"450\" height=\"450\">\n",
    "\n",
    "The function plotDecisionBoundary(theta,X,y) plots the data points X and y into a new figure with\n",
    "the decision boundary defined by theta. It plots the data points with + for the positive examples and o for the negative examples. X is assumed to be either an M x 3 matrix, where the first column is all ones (for the intercept) or an M x N (N > 3) matrix, where the first column is still all ones. You could find the plotDecisionBoundary function by going to your workspace (File ==> Open).\n"
   ]
  },
  {
   "cell_type": "code",
   "execution_count": 78,
   "metadata": {
    "collapsed": false
   },
   "outputs": [
    {
     "data": {
      "image/png": "[encoded data removed]",
      "text/plain": [
       "<IPython.core.display.Image object>"
      ]
     },
     "metadata": {},
     "output_type": "display_data"
    }
   ],
   "source": [
    "% Plot the Decision Boundary \n",
    "plotDecisionBoundary(theta, X, y);       "
   ]
  },
  {
   "cell_type": "markdown",
   "metadata": {},
   "source": [
    "### Evaluating Logistic Regression\n",
    "After learning the parameters, you can use the model to predict whether a particular student will be admitted. For example you will predict the admission rate of a student who has an Exam 1 score of 45 and an Exam 2 score of 85. Run the cell below to see if your output matches the expected output. "
   ]
  },
  {
   "cell_type": "code",
   "execution_count": 79,
   "metadata": {
    "collapsed": false
   },
   "outputs": [
    {
     "name": "stdout",
     "output_type": "stream",
     "text": [
      "prob =  0.77629\n"
     ]
    }
   ],
   "source": [
    "prob = sigmoid([1 45 85] * theta)"
   ]
  },
  {
   "cell_type": "markdown",
   "metadata": {},
   "source": [
    "***Expected Output:*** \n",
    "\n",
    "0.776"
   ]
  },
  {
   "cell_type": "markdown",
   "metadata": {},
   "source": [
    "Another way to evaluate the quality of the parameters we have found is to see how well the learned model predicts on our training set. In this part, your task is to complete the code in predict.m. The predict function will produce “1” or “0” predictions given a dataset and a learned parameter vector θ.\n",
    "After you have complete the function below, you will get to see the accuracy of your classifier by computing the percentage of examples it got correct.\n",
    "\n",
    "**Instructions**\n",
    "\n",
    "You should predict whether the label is 0 or 1 using the learned logistic regression parameters theta.\n",
    "\n",
    "p = predict(theta, X) computes the predictions for X using a threshold at 0.5 (i.e., if sigmoid(x*theta) >= 0.5, predict 1)\n",
    "\n",
    "You should set p to a vector of zeros and ones. \n"
   ]
  },
  {
   "cell_type": "code",
   "execution_count": 80,
   "metadata": {
    "collapsed": false
   },
   "outputs": [],
   "source": [
    "% GRADED FUNCTION: predict\n",
    "function p = predict(theta, X)\n",
    "\n",
    "m = size(X, 1);                     % Number of training examples\n",
    "p = zeros(m, 1);                    % Return the following variable correctly\n",
    "\n",
    "% ====================== YOUR CODE HERE ======================\n",
    "p = sigmoid(X * theta) >= 0.5;\n",
    "\n",
    "% =============================================================\n",
    "\n",
    "end"
   ]
  },
  {
   "cell_type": "code",
   "execution_count": 81,
   "metadata": {
    "collapsed": false
   },
   "outputs": [
    {
     "name": "stdout",
     "output_type": "stream",
     "text": [
      "Accuracy =  89\n"
     ]
    }
   ],
   "source": [
    "p = predict(theta, X);                       % Calling your function\n",
    "Accuracy = mean(double(p == y)) * 100        % Calculating the Accuracy"
   ]
  },
  {
   "cell_type": "markdown",
   "metadata": {},
   "source": [
    "\n",
    "***Expected Output***:\n",
    "\n",
    "Accuracy = 89 %"
   ]
  },
  {
   "cell_type": "markdown",
   "metadata": {},
   "source": [
    "# Regularized Logistic Regression \n",
    "\n",
    "In this part of the exercise, you will implement regularized logistic regression to predict whether microchips from a fabrication plant passes quality assurance (QA). During QA, each microchip goes through various tests to ensure it is functioning correctly.\n",
    "\n",
    "Suppose you are the product manager of the factory and you have the test results for some microchips on two different tests. From these two tests, you would like to determine whether the microchips should be accepted or rejected. To help you make the decision, you have a dataset of test results on past microchips, from which you can build a logistic regression model."
   ]
  },
  {
   "cell_type": "markdown",
   "metadata": {
    "collapsed": true
   },
   "source": [
    "## Visualizing the data \n",
    "\n",
    "Similar to the previous parts of this exercise, plotData is used to generate a figure like Figure 3, where the axes are the two test scores, and the positive (y = 1, accepted) and negative (y = 0, rejected) examples are shown with different markers.\n",
    "<img src=\"../readonly/Assignment2/figure 3.png\"  width=\"450\" height=\"450\">"
   ]
  },
  {
   "cell_type": "markdown",
   "metadata": {},
   "source": [
    "Figure 3 shows that our dataset cannot be separated into positive and negative examples by a straight-line through the plot. Therefore, a straight forward application of logistic regression will not perform well on this dataset since logistic regression will only be able to find a linear decision boundary. Run the cells below to see a plot of your new data. "
   ]
  },
  {
   "cell_type": "code",
   "execution_count": 82,
   "metadata": {
    "collapsed": true
   },
   "outputs": [],
   "source": [
    "% Load the Variables\n",
    "data = load('ex2data2.txt');\n",
    "X = data(:, [1, 2]); \n",
    "y = data(:, 3);"
   ]
  },
  {
   "cell_type": "code",
   "execution_count": 83,
   "metadata": {
    "collapsed": false
   },
   "outputs": [
    {
     "data": {
      "image/png": "[encoded data removed]",
      "text/plain": [
       "<IPython.core.display.Image object>"
      ]
     },
     "metadata": {},
     "output_type": "display_data"
    }
   ],
   "source": [
    "plotData(X,y)\n",
    "hold on;                                              \n",
    "xlabel('Microchip Test 1')      % Labels and Legend\n",
    "ylabel('Microchip Test 2')\n",
    "legend('y = 1', 'y = 0')\n",
    "hold off;"
   ]
  },
  {
   "cell_type": "markdown",
   "metadata": {},
   "source": [
    "## Feature mapping\n",
    "One way to fit the data better is to create more features from each data point. In the provided function mapFeature, we will map the features into all polynomial terms of $x_1$ and $x_2$ up to the sixth power.\n",
    "\n",
    "$$\\mathrm{mapFeature}(x) = \n",
    "\\left[\\begin{array}{c}\n",
    "1\\\\\n",
    "x_1\\\\\n",
    "x_2\\\\\n",
    "x_1^2\\\\\n",
    "x_1 x_2\\\\\n",
    "x_2^2\\\\\n",
    "x_1^3\\\\\n",
    "\\vdots\\\\\n",
    "x_1 x_2^5\\\\\n",
    "x_2^6\\end{array}\\right]$$\n",
    "\n",
    "As a result of this mapping, our vector of two features (the scores on two QA tests) has been transformed into a 28-dimensional vector. A logistic regression classifier trained on this higher-dimension feature vector will have a more complex decision boundary and will appear nonlinear when drawn in our 2-dimensional plot.\n",
    "While the feature mapping allows us to build a more expressive classifier, it is also more susceptible to overfitting. We have provided the mapFeature function for you below. \n",
    "\n",
    "**About the Function:**\n",
    "\n",
    "MapFeature(X1, X2) maps the two input features to quadratic features used in the regularization exercise.\n",
    "\n",
    "Returns a new feature array with more features, comprising of $x_1, x_2, x_1^2, x_2^2, x_1x_2, x_1x_2^2$  etc...\n",
    "\n",
    "Inputs $x_1, x_2$ must be the same size.\n"
   ]
  },
  {
   "cell_type": "code",
   "execution_count": 84,
   "metadata": {
    "collapsed": true
   },
   "outputs": [],
   "source": [
    "function out = mapFeature(X1, X2)\n",
    "\n",
    "degree = 6;\n",
    "out = ones(size(X1(:,1)));\n",
    "for i = 1:degree\n",
    "    for j = 0:i\n",
    "        out(:, end+1) = (X1.^(i-j)).*(X2.^j);\n",
    "    end\n",
    "end\n",
    "\n",
    "end"
   ]
  },
  {
   "cell_type": "markdown",
   "metadata": {},
   "source": [
    "## Cost function and gradient\n",
    "\n",
    "In this part, you are given a dataset with data points that are not linearly separable. However, you would still like to use logistic regression to classify the data points. To do so, you introduce more features to use, in particular, you add polynomial features to our data matrix (similar to polynomial regression). You will implement regularized logistic regression to fit the data. In doing this, you will see how regularization can help combat the overfitting problem.\n",
    "\n",
    "Recall that the regularized cost function in logistic regression is\n",
    "\n",
    "$$J(\\theta)=\\frac{{1}}{m}\\sum_{i=1}^{m}\\left[\n",
    " -y^{(i)}\\log(h_{\\theta}(x^{(i)}))-\n",
    " (1-y^{(i)})\\log(1-h_{\\theta}(x^{(i)}))\\right] + \n",
    " \\frac{\\lambda}{2m} \\sum_{j=1}^{n} \\theta_j^2.$$\n",
    "\n",
    "Note that you should not regularize the parameter $\\theta_0$. In\n",
    "**Octave/MATLAB**, indexing starts from 1, hence, you should\n",
    "not be regularizing the theta(1) parameter (which corresponds to\n",
    "$\\theta_0$) in the code. The gradient of the cost function is a vector\n",
    "where the $j^\\mathrm{th}$ element is defined as follows:\n",
    "\n",
    "$$\\frac{\\partial J(\\theta)}{\\partial\\theta_0} = \\frac{1}{m}  \\sum_{i=1}^m (h_{\\theta}(x^{(i)}) - y^{(i)}) x_j^{(i)} \\quad\\quad\\quad\\quad\\quad\\quad \\mbox{for $j = 0$}$$\n",
    "\n",
    "$$\\frac{\\partial J(\\theta)}{\\partial\\theta_j} = \\left( \\frac{1}{m}  \\sum_{i=1}^m (h_{\\theta}(x^{(i)}) - y^{(i)}) x_j^{(i)} \\right) + \\frac{\\lambda}{m} \\theta_j  \\quad\\, \\mbox{for $j \\geq 1$}$$\n",
    "\n",
    "Once you are done implementing costFunctionReg, run your function using the initial value of $\\theta$\n",
    "(initialized to all zeros). \n",
    "\n",
    "**Implementation**\n",
    "\n",
    "Compute cost and gradient for logistic regression with regularization.\n",
    "\n",
    "J = costFunctionReg(theta, X, y, lambda) computes the cost of using theta as the parameter for regularized logistic regression and the gradient of the cost w.r.t. to the parameters. You should set J to the cost defined above in the first equation. Then, compute the partial derivatives and set grad to the partial derivatives of the cost w.r.t. each parameter in theta. In this case, you will have to set grad(1) to the first equation where j = 0 and the other gradients to the second equation. \n"
   ]
  },
  {
   "cell_type": "code",
   "execution_count": 90,
   "metadata": {
    "collapsed": false
   },
   "outputs": [],
   "source": [
    "% GRADED FUNCTION: costFunctionReg\n",
    "function [J, grad] = costFunctionReg(theta, X, y, lambda)\n",
    "\n",
    "m = length(y);                % Number of training examples\n",
    "J = 0;                        % Set J to the cost\n",
    "grad = zeros(size(theta));    % Set grad to the gradient\n",
    "\n",
    "% ====================== YOUR CODE HERE ======================\n",
    "h = sigmoid(X*theta);\n",
    "J = 1/m * (-y'*log(h) - (1-y)'*log(1-h)) + lambda/(2*m)*(theta(2:end)'* theta(2:end));\n",
    "grad(1,1) = 1/m*(X(:,1)' * (h-y));\n",
    "grad(2:end) = 1/m*(X(:,2:end)' * (h-y)) + lambda/m *theta(2:end);\n",
    "\n",
    "% =============================================================\n",
    "\n",
    "end"
   ]
  },
  {
   "cell_type": "code",
   "execution_count": 91,
   "metadata": {
    "collapsed": false
   },
   "outputs": [
    {
     "name": "stdout",
     "output_type": "stream",
     "text": [
      "cost =  0.69315\n"
     ]
    }
   ],
   "source": [
    "X = mapFeature(X(:,1), X(:,2));                            % Add Polynomial Features (it adds the intercept term)\n",
    "initial_theta = zeros(size(X, 2), 1);                      % Initialize fitting parameters\n",
    "lambda = 1;                                                % Set regularization parameter lambda to 1\n",
    "cost = costFunctionReg(initial_theta, X, y, lambda)"
   ]
  },
  {
   "cell_type": "markdown",
   "metadata": {},
   "source": [
    "\n",
    "**Expected Output:**\n",
    "\n",
    "You should see that the cost is about **0.693**"
   ]
  },
  {
   "cell_type": "markdown",
   "metadata": {},
   "source": [
    "## Learning parameters using fminunc\n",
    "\n",
    "Similar to the previous parts, you will use fminunc to learn the optimal parameters θ. If you have completed the cost and gradient for regularized logistic regression correctly, you should be able to step through the next cell to learn the parameters θ using fminunc. After training our theta, we will use it to plot the decision boundary. You will get to to experiment with different values for lambda.\n"
   ]
  },
  {
   "cell_type": "code",
   "execution_count": 87,
   "metadata": {
    "collapsed": false
   },
   "outputs": [
    {
     "name": "stdout",
     "output_type": "stream",
     "text": [
      "J =  0.53553\n"
     ]
    }
   ],
   "source": [
    "initial_theta = zeros(size(X, 2), 1);                % Initialize fitting parameters\n",
    "lambda = 1;                                          % Set regularization parameter lambda to 1 (you should vary this)\n",
    "options = optimset('GradObj', 'on', 'MaxIter', 400); % Set Options\n",
    "\n",
    "\n",
    "[theta, J, exit_flag] = fminunc(@(t)(costFunctionReg(t, X, y, lambda)), initial_theta, options);\n",
    "J"
   ]
  },
  {
   "cell_type": "markdown",
   "metadata": {},
   "source": [
    "### Plotting the decision boundary\n",
    "To help you visualize the model learned by this classifier, we will use our [plotDecisionBoundary](plotDecisionBoundary.m) function which plots the (non-linear) decision boundary that separates the positive and negative examples. In the function, we plotted the non-linear decision boundary by computing the classifier’s predictions on an evenly spaced grid and then drew a contour plot of where the predictions change from y = 0 to y = 1.\n",
    "After learning the parameters θ, the next step is to plot a decision boundary similar to Figure 4.\n",
    "\n",
    "<img src=\"../readonly/Assignment2/figure 4.png\"  width=\"450\" height=\"450\">"
   ]
  },
  {
   "cell_type": "code",
   "execution_count": 88,
   "metadata": {
    "collapsed": false
   },
   "outputs": [
    {
     "name": "stdout",
     "output_type": "stream",
     "text": [
      "Accuracy =  83.898\n"
     ]
    },
    {
     "data": {
      "image/png": "[encoded data removed]",
      "text/plain": [
       "<IPython.core.display.Image object>"
      ]
     },
     "metadata": {},
     "output_type": "display_data"
    }
   ],
   "source": [
    "% Plot the Decision Boundary\n",
    "plotDecisionBoundary(theta, X, y);\n",
    "hold on;\n",
    "title(sprintf('lambda = %g', lambda))             % Labels and Legend    \n",
    "xlabel('Microchip Test 1')\n",
    "ylabel('Microchip Test 2')\n",
    "legend('y = 1', 'y = 0', 'Decision boundary')\n",
    "hold off;\n",
    "\n",
    "p = predict(theta, X);                            % Get the prediction\n",
    "Accuracy =  mean(double(p == y)) * 100            % Accuracy "
   ]
  },
  {
   "cell_type": "markdown",
   "metadata": {},
   "source": [
    "## Optional Exercises \n",
    "\n",
    "In this part of the exercise, you will get to try out different regularization parameters for the dataset to understand how regularization prevents overfitting.\n",
    "\n",
    "Notice the changes in the decision boundary as you vary λ. With a small λ, you should find that the classifier gets almost every training example correct, but draws a very complicated boundary, thus overfitting the data (Figure 5). This is not a good decision boundary: for example, it predicts that a point at x = (−0.25, 1.5) is accepted (y = 1), which seems to be an incorrect decision given the training set.\n",
    "\n",
    "<img src=\"../readonly/Assignment2/figure 5.png\"  width=\"450\" height=\"450\">\n",
    "With a larger λ, you should see a plot that shows an simpler decision boundary which still separates the positives and negatives fairly well. However, if λ is set to too high a value, you will not get a good fit and the decision boundary will not follow the data so well, thus underfitting the data (Figure 6).\n",
    "\n",
    "<img src=\"../readonly/Assignment2/figure 6.png\"  width=\"450\" height=\"450\">\n",
    "\n",
    "You should go up to the section under **Learning parameters using fminunc** and change the lambda value to see the figures above. Feel free to try out different lambda values."
   ]
  },
  {
   "cell_type": "code",
   "execution_count": null,
   "metadata": {
    "collapsed": true
   },
   "outputs": [],
   "source": []
  }
 ],
 "metadata": {
  "coursera": {
   "course_slug": "machine-learning",
   "graded_item_id": "67IUt",
   "launcher_item_id": "5YYuA",
   "submission_attachments": [
    "computeCost.m",
    "computeCostMulti.m",
    "featureNormalize.m",
    "gradientDescent.m",
    "gradientDescentMulti.m",
    "normalEqn.m",
    "plotData.m",
    "warmUpExercise.m"
   ]
  },
  "kernelspec": {
   "display_name": "Octave",
   "language": "octave",
   "name": "octave"
  },
  "language_info": {
   "file_extension": ".m",
   "help_links": [
    {
     "text": "GNU Octave",
     "url": "https://www.gnu.org/software/octave/support.html"
    },
    {
     "text": "Octave Kernel",
     "url": "https://github.com/Calysto/octave_kernel"
    },
    {
     "text": "MetaKernel Magics",
     "url": "https://github.com/calysto/metakernel/blob/master/metakernel/magics/README.md"
    }
   ],
   "mimetype": "text/x-octave",
   "name": "octave",
   "version": "3.8.2"
  }
 },
 "nbformat": 4,
 "nbformat_minor": 0
}
